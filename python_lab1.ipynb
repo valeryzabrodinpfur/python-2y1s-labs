{
  "nbformat": 4,
  "nbformat_minor": 0,
  "metadata": {
    "colab": {
      "provenance": []
    },
    "kernelspec": {
      "name": "python3",
      "display_name": "Python 3"
    },
    "language_info": {
      "name": "python"
    }
  },
  "cells": [
    {
      "cell_type": "code",
      "execution_count": null,
      "metadata": {
        "id": "Sl51gROMqmMu"
      },
      "outputs": [],
      "source": [
        "name = input(\"Введите ваше имя: \")\n",
        "birth_year = int(input(\"Введите ваш год рождения: \"))\n",
        "current_year = 2025\n",
        "age = current_year - birth_year\n",
        "print(f\"Привет, {name}! В этом году тебе исполняется {age} лет.\")\n"
      ]
    },
    {
      "cell_type": "code",
      "source": [
        "num = int(input(\"Введите число: \"))\n",
        "if num % 5 == 0 and num % 10 == 0:\n",
        "    print(\"Число кратно и 5, и 10\")\n",
        "else:\n",
        "    print(\"Число не кратно одновременно 5 и 10\")"
      ],
      "metadata": {
        "id": "Os4SkYl2q45Z"
      },
      "execution_count": null,
      "outputs": []
    },
    {
      "cell_type": "code",
      "source": [
        "a = int(input(\"Введите первое число: \"))\n",
        "b = int(input(\"Введите второе число: \"))\n",
        "c = int(input(\"Введите третье число: \"))\n",
        "\n",
        "min_num = a\n",
        "if b < min_num:\n",
        "    min_num = b\n",
        "if c < min_num:\n",
        "    min_num = c\n",
        "\n",
        "print(\"Наименьшее число:\", min_num)"
      ],
      "metadata": {
        "id": "wVoTWBgAq4xp"
      },
      "execution_count": null,
      "outputs": []
    },
    {
      "cell_type": "code",
      "source": [
        "start = int(input(\"Введите start: \"))\n",
        "end = int(input(\"Введите end: \"))\n",
        "\n",
        "found_even = False\n",
        "for i in range(start, end + 1):\n",
        "    if i % 2 == 0:\n",
        "        print(i)\n",
        "        found_even = True\n",
        "\n",
        "if not found_even:\n",
        "    print(\"В этом диапазоне нет чётных чисел.\")"
      ],
      "metadata": {
        "id": "mYRv7f1Nq4vY"
      },
      "execution_count": null,
      "outputs": []
    },
    {
      "cell_type": "code",
      "source": [
        "numbers = [12, -5, 23, 0, 4, 17, -8, 0, 11]\n",
        "\n",
        "print(\"Количество элементов:\", len(numbers))\n",
        "\n",
        "print(\"Последний элемент:\", numbers[-1])\n",
        "\n",
        "print(\"Список в обратном порядке:\", numbers[::-1])\n",
        "\n",
        "if 5 in numbers and 17 in numbers:\n",
        "    print(\"Да\")\n",
        "else:\n",
        "    print(\"Нет\")"
      ],
      "metadata": {
        "id": "XDLeHK31q4tA"
      },
      "execution_count": null,
      "outputs": []
    },
    {
      "cell_type": "code",
      "source": [
        "student = {\n",
        "    \"name\": \"Иван\",\n",
        "    \"age\": 20,\n",
        "    \"course\": 3,\n",
        "    \"grades\": [4, 5, 3, 5, 4]\n",
        "}\n",
        "\n",
        "print(f\"Имя: {student['name']}, Курс: {student['course']}\")\n",
        "\n",
        "average_grade = sum(student[\"grades\"]) / len(student[\"grades\"])\n",
        "print(f\"Средний балл: {average_grade:.2f}\")\n",
        "\n",
        "student[\"grades\"].append(5)\n",
        "\n",
        "print(\"Обновлённый словарь:\", student)\n"
      ],
      "metadata": {
        "id": "mnEoc9-Zq4ZS"
      },
      "execution_count": null,
      "outputs": []
    },
    {
      "cell_type": "code",
      "source": [
        "import math\n",
        "\n",
        "def calculate_circle_area(radius):\n",
        "    return math.pi * radius ** 2\n",
        "\n",
        "def is_positive(number):\n",
        "    return number > 0\n",
        "\n",
        "r = 5\n",
        "print(f\"Площадь круга с радиусом {r}: {calculate_circle_area(r):.2f}\")\n",
        "print(f\"Число {r} положительное? {is_positive(r)}\")\n",
        "print(f\"Число -3 положительное? {is_positive(-3)}\")\n"
      ],
      "metadata": {
        "id": "hKgmzL49sViE"
      },
      "execution_count": null,
      "outputs": []
    },
    {
      "cell_type": "code",
      "source": [
        "def shift_text(text, shift=3):\n",
        "    result = []\n",
        "    for char in text:\n",
        "        if char.isalpha():\n",
        "            start = ord('A') if char.isupper() else ord('a')\n",
        "            offset = (ord(char) - start + shift) % 26\n",
        "            result.append(chr(start + offset))\n",
        "        else:\n",
        "            result.append(char)\n",
        "    return ''.join(result)\n",
        "\n",
        "input_str = \"Hello, World!\"\n",
        "print(shift_text(input_str))"
      ],
      "metadata": {
        "id": "j2wl0O1XsVf8"
      },
      "execution_count": null,
      "outputs": []
    },
    {
      "cell_type": "code",
      "source": [
        "import random\n",
        "\n",
        "numbers = [random.randint(-10, 10) for _ in range(15)]\n",
        "\n",
        "positives = [x for x in numbers if x > 0]\n",
        "squares = [x**2 for x in numbers]\n",
        "\n",
        "print(\"Исходный список:\", numbers)\n",
        "print(\"Положительные числа:\", positives)\n",
        "print(\"Квадраты чисел:\", squares)"
      ],
      "metadata": {
        "id": "2oqR3K07sVdd"
      },
      "execution_count": null,
      "outputs": []
    },
    {
      "cell_type": "code",
      "source": [
        "while True:\n",
        "    user_input = input(\"Введите число или 'стоп': \")\n",
        "    if user_input.lower() == \"стоп\":\n",
        "        break\n",
        "    try:\n",
        "        number = float(user_input)\n",
        "        print(number)\n",
        "    except ValueError:\n",
        "        print(\"Ошибка: введите число или 'стоп'.\")"
      ],
      "metadata": {
        "id": "Jk-YOkKjsVXN"
      },
      "execution_count": null,
      "outputs": []
    }
  ]
}